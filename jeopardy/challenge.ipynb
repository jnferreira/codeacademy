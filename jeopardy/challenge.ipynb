{
 "nbformat": 4,
 "nbformat_minor": 2,
 "metadata": {
  "language_info": {
   "name": "python",
   "codemirror_mode": {
    "name": "ipython",
    "version": 3
   },
   "version": "3.7.4-final"
  },
  "orig_nbformat": 2,
  "file_extension": ".py",
  "mimetype": "text/x-python",
  "name": "python",
  "npconvert_exporter": "python",
  "pygments_lexer": "ipython3",
  "version": 3,
  "kernelspec": {
   "name": "python37464bitbaseconda3511a967dea44a64935930d64976746a",
   "display_name": "Python 3.7.4 64-bit ('base': conda)"
  }
 },
 "cells": [
  {
   "cell_type": "code",
   "execution_count": 3,
   "metadata": {},
   "outputs": [],
   "source": [
    "import pandas as pd\n",
    "\n",
    "pd.set_option('display.max_colwidth', -1)"
   ]
  },
  {
   "cell_type": "code",
   "execution_count": 24,
   "metadata": {},
   "outputs": [],
   "source": [
    "df = pd.read_csv('jeopardy.csv')"
   ]
  },
  {
   "cell_type": "code",
   "execution_count": 25,
   "metadata": {},
   "outputs": [
    {
     "output_type": "execute_result",
     "data": {
      "text/plain": "   Show Number    Air Date      Round                         Category  Value  \\\n0  4680         2004-12-31  Jeopardy!  HISTORY                          $200    \n1  4680         2004-12-31  Jeopardy!  ESPN's TOP 10 ALL-TIME ATHLETES  $200    \n2  4680         2004-12-31  Jeopardy!  EVERYBODY TALKS ABOUT IT...      $200    \n3  4680         2004-12-31  Jeopardy!  THE COMPANY LINE                 $200    \n4  4680         2004-12-31  Jeopardy!  EPITAPHS & TRIBUTES              $200    \n\n                                                                                                      Question  \\\n0  For the last 8 years of his life, Galileo was under house arrest for espousing this man's theory              \n1  No. 2: 1912 Olympian; football star at Carlisle Indian School; 6 MLB seasons with the Reds, Giants & Braves   \n2  The city of Yuma in this state has a record average of 4,055 hours of sunshine each year                      \n3  In 1963, live on \"The Art Linkletter Show\", this company served its billionth burger                          \n4  Signer of the Dec. of Indep., framer of the Constitution of Mass., second President of the United States      \n\n       Answer  \n0  Copernicus  \n1  Jim Thorpe  \n2  Arizona     \n3  McDonald's  \n4  John Adams  ",
      "text/html": "<div>\n<style scoped>\n    .dataframe tbody tr th:only-of-type {\n        vertical-align: middle;\n    }\n\n    .dataframe tbody tr th {\n        vertical-align: top;\n    }\n\n    .dataframe thead th {\n        text-align: right;\n    }\n</style>\n<table border=\"1\" class=\"dataframe\">\n  <thead>\n    <tr style=\"text-align: right;\">\n      <th></th>\n      <th>Show Number</th>\n      <th>Air Date</th>\n      <th>Round</th>\n      <th>Category</th>\n      <th>Value</th>\n      <th>Question</th>\n      <th>Answer</th>\n    </tr>\n  </thead>\n  <tbody>\n    <tr>\n      <td>0</td>\n      <td>4680</td>\n      <td>2004-12-31</td>\n      <td>Jeopardy!</td>\n      <td>HISTORY</td>\n      <td>$200</td>\n      <td>For the last 8 years of his life, Galileo was under house arrest for espousing this man's theory</td>\n      <td>Copernicus</td>\n    </tr>\n    <tr>\n      <td>1</td>\n      <td>4680</td>\n      <td>2004-12-31</td>\n      <td>Jeopardy!</td>\n      <td>ESPN's TOP 10 ALL-TIME ATHLETES</td>\n      <td>$200</td>\n      <td>No. 2: 1912 Olympian; football star at Carlisle Indian School; 6 MLB seasons with the Reds, Giants &amp; Braves</td>\n      <td>Jim Thorpe</td>\n    </tr>\n    <tr>\n      <td>2</td>\n      <td>4680</td>\n      <td>2004-12-31</td>\n      <td>Jeopardy!</td>\n      <td>EVERYBODY TALKS ABOUT IT...</td>\n      <td>$200</td>\n      <td>The city of Yuma in this state has a record average of 4,055 hours of sunshine each year</td>\n      <td>Arizona</td>\n    </tr>\n    <tr>\n      <td>3</td>\n      <td>4680</td>\n      <td>2004-12-31</td>\n      <td>Jeopardy!</td>\n      <td>THE COMPANY LINE</td>\n      <td>$200</td>\n      <td>In 1963, live on \"The Art Linkletter Show\", this company served its billionth burger</td>\n      <td>McDonald's</td>\n    </tr>\n    <tr>\n      <td>4</td>\n      <td>4680</td>\n      <td>2004-12-31</td>\n      <td>Jeopardy!</td>\n      <td>EPITAPHS &amp; TRIBUTES</td>\n      <td>$200</td>\n      <td>Signer of the Dec. of Indep., framer of the Constitution of Mass., second President of the United States</td>\n      <td>John Adams</td>\n    </tr>\n  </tbody>\n</table>\n</div>"
     },
     "metadata": {},
     "execution_count": 25
    }
   ],
   "source": [
    "df.head()"
   ]
  },
  {
   "cell_type": "code",
   "execution_count": 26,
   "metadata": {},
   "outputs": [
    {
     "output_type": "stream",
     "name": "stdout",
     "text": "<class 'pandas.core.frame.DataFrame'>\nRangeIndex: 216930 entries, 0 to 216929\nData columns (total 7 columns):\nShow Number    216930 non-null int64\n Air Date      216930 non-null object\n Round         216930 non-null object\n Category      216930 non-null object\n Value         216930 non-null object\n Question      216930 non-null object\n Answer        216928 non-null object\ndtypes: int64(1), object(6)\nmemory usage: 11.6+ MB\n"
    }
   ],
   "source": [
    "df.info()"
   ]
  },
  {
   "cell_type": "code",
   "execution_count": 27,
   "metadata": {},
   "outputs": [],
   "source": [
    "df.rename(columns={'Show Number': 'num', ' Air Date': 'date', ' Round': 'round', ' Category': 'category', ' Value': 'value', ' Question': 'question', ' Answer':'answer'}, inplace=True)"
   ]
  },
  {
   "cell_type": "code",
   "execution_count": 76,
   "metadata": {},
   "outputs": [],
   "source": [
    "def filts(df_temp, question):\n",
    "    return df_temp[df_temp.question.apply(lambda x : True if all(ext.lower() in x.lower() for ext in question) else False)]"
   ]
  },
  {
   "cell_type": "code",
   "execution_count": 77,
   "metadata": {},
   "outputs": [
    {
     "output_type": "execute_result",
     "data": {
      "text/plain": "         num       date             round               category   value  \\\n4953    3003 1997-09-24  Double Jeopardy!  \"PH\"UN WORDS           $200     \n6337    3517 1999-12-14  Double Jeopardy!  Y1K                    $800     \n9191    3907 2001-09-04  Double Jeopardy!  WON THE BATTLE         $800     \n11710   2903 1997-03-26  Double Jeopardy!  BRITISH MONARCHS       $600     \n13454   4726 2005-03-07  Jeopardy!         A NUMBER FROM 1 TO 10  $1000    \n...      ...        ...        ...                           ...    ...    \n208295  4621 2004-10-11  Jeopardy!         THE VIKINGS            $600     \n208742  4863 2005-11-02  Double Jeopardy!  BEFORE & AFTER         $3,000   \n213870  5856 2010-02-15  Double Jeopardy!  URANUS                 $1600    \n216021  1881 1992-11-09  Double Jeopardy!  HISTORIC NAMES         $1000    \n216789  5070 2006-09-29  Double Jeopardy!  ANCIENT HISTORY        $1200    \n\n                                                                                                      question  \\\n4953    Both England's King George V & FDR put their stamp of approval on this \"King of Hobbies\"                 \n6337    In retaliation for Viking raids, this \"Unready\" king of England attacks Norse areas of the Isle of Man   \n9191    This king of England beat the odds to trounce the French in the 1415 Battle of Agincourt                 \n11710   This Scotsman, the first Stuart king of England, was called \"The Wisest Fool in Christendom\"             \n13454   It's the number that followed the last king of England named William                                     \n...                                                                      ...                                     \n208295  In 1066 this great-great grandson of Rollo made what some call the last Viking invasion of England       \n208742  Dutch-born king who ruled England jointly with Mary II & is a tasty New Zealand fish                     \n213870  In 1781 William Herschel discovered Uranus & initially named it after this king of England               \n216021  His nickname was \"Bertie\", but he used this name & number when he became king of England in 1901         \n216789  This kingdom of England grew from 2 settlements, one founded around 495 by Cerdic & his son Cynric       \n\n                              answer  value_to_float  \n4953    Philately (stamp collecting)  200.0           \n6337    Ethelred                      800.0           \n9191    Henry V                       800.0           \n11710   James I                       600.0           \n13454   4                             1000.0          \n...    ..                                ...          \n208295  William the Conqueror         600.0           \n208742  William of Orange roughy      3.0             \n213870  George III                    1600.0          \n216021  Edward VII                    1000.0          \n216789  Wessex                        1200.0          \n\n[152 rows x 8 columns]",
      "text/html": "<div>\n<style scoped>\n    .dataframe tbody tr th:only-of-type {\n        vertical-align: middle;\n    }\n\n    .dataframe tbody tr th {\n        vertical-align: top;\n    }\n\n    .dataframe thead th {\n        text-align: right;\n    }\n</style>\n<table border=\"1\" class=\"dataframe\">\n  <thead>\n    <tr style=\"text-align: right;\">\n      <th></th>\n      <th>num</th>\n      <th>date</th>\n      <th>round</th>\n      <th>category</th>\n      <th>value</th>\n      <th>question</th>\n      <th>answer</th>\n      <th>value_to_float</th>\n    </tr>\n  </thead>\n  <tbody>\n    <tr>\n      <td>4953</td>\n      <td>3003</td>\n      <td>1997-09-24</td>\n      <td>Double Jeopardy!</td>\n      <td>\"PH\"UN WORDS</td>\n      <td>$200</td>\n      <td>Both England's King George V &amp; FDR put their stamp of approval on this \"King of Hobbies\"</td>\n      <td>Philately (stamp collecting)</td>\n      <td>200.0</td>\n    </tr>\n    <tr>\n      <td>6337</td>\n      <td>3517</td>\n      <td>1999-12-14</td>\n      <td>Double Jeopardy!</td>\n      <td>Y1K</td>\n      <td>$800</td>\n      <td>In retaliation for Viking raids, this \"Unready\" king of England attacks Norse areas of the Isle of Man</td>\n      <td>Ethelred</td>\n      <td>800.0</td>\n    </tr>\n    <tr>\n      <td>9191</td>\n      <td>3907</td>\n      <td>2001-09-04</td>\n      <td>Double Jeopardy!</td>\n      <td>WON THE BATTLE</td>\n      <td>$800</td>\n      <td>This king of England beat the odds to trounce the French in the 1415 Battle of Agincourt</td>\n      <td>Henry V</td>\n      <td>800.0</td>\n    </tr>\n    <tr>\n      <td>11710</td>\n      <td>2903</td>\n      <td>1997-03-26</td>\n      <td>Double Jeopardy!</td>\n      <td>BRITISH MONARCHS</td>\n      <td>$600</td>\n      <td>This Scotsman, the first Stuart king of England, was called \"The Wisest Fool in Christendom\"</td>\n      <td>James I</td>\n      <td>600.0</td>\n    </tr>\n    <tr>\n      <td>13454</td>\n      <td>4726</td>\n      <td>2005-03-07</td>\n      <td>Jeopardy!</td>\n      <td>A NUMBER FROM 1 TO 10</td>\n      <td>$1000</td>\n      <td>It's the number that followed the last king of England named William</td>\n      <td>4</td>\n      <td>1000.0</td>\n    </tr>\n    <tr>\n      <td>...</td>\n      <td>...</td>\n      <td>...</td>\n      <td>...</td>\n      <td>...</td>\n      <td>...</td>\n      <td>...</td>\n      <td>...</td>\n      <td>...</td>\n    </tr>\n    <tr>\n      <td>208295</td>\n      <td>4621</td>\n      <td>2004-10-11</td>\n      <td>Jeopardy!</td>\n      <td>THE VIKINGS</td>\n      <td>$600</td>\n      <td>In 1066 this great-great grandson of Rollo made what some call the last Viking invasion of England</td>\n      <td>William the Conqueror</td>\n      <td>600.0</td>\n    </tr>\n    <tr>\n      <td>208742</td>\n      <td>4863</td>\n      <td>2005-11-02</td>\n      <td>Double Jeopardy!</td>\n      <td>BEFORE &amp; AFTER</td>\n      <td>$3,000</td>\n      <td>Dutch-born king who ruled England jointly with Mary II &amp; is a tasty New Zealand fish</td>\n      <td>William of Orange roughy</td>\n      <td>3.0</td>\n    </tr>\n    <tr>\n      <td>213870</td>\n      <td>5856</td>\n      <td>2010-02-15</td>\n      <td>Double Jeopardy!</td>\n      <td>URANUS</td>\n      <td>$1600</td>\n      <td>In 1781 William Herschel discovered Uranus &amp; initially named it after this king of England</td>\n      <td>George III</td>\n      <td>1600.0</td>\n    </tr>\n    <tr>\n      <td>216021</td>\n      <td>1881</td>\n      <td>1992-11-09</td>\n      <td>Double Jeopardy!</td>\n      <td>HISTORIC NAMES</td>\n      <td>$1000</td>\n      <td>His nickname was \"Bertie\", but he used this name &amp; number when he became king of England in 1901</td>\n      <td>Edward VII</td>\n      <td>1000.0</td>\n    </tr>\n    <tr>\n      <td>216789</td>\n      <td>5070</td>\n      <td>2006-09-29</td>\n      <td>Double Jeopardy!</td>\n      <td>ANCIENT HISTORY</td>\n      <td>$1200</td>\n      <td>This kingdom of England grew from 2 settlements, one founded around 495 by Cerdic &amp; his son Cynric</td>\n      <td>Wessex</td>\n      <td>1200.0</td>\n    </tr>\n  </tbody>\n</table>\n<p>152 rows × 8 columns</p>\n</div>"
     },
     "metadata": {},
     "execution_count": 77
    }
   ],
   "source": [
    "filts(df, [\"King\", \"England\"])"
   ]
  },
  {
   "cell_type": "code",
   "execution_count": 49,
   "metadata": {
    "tags": [
     "outputPrepend",
     "outputPrepend",
     "outputPrepend",
     "outputPrepend",
     "outputPrepend",
     "outputPrepend",
     "outputPrepend",
     "outputPrepend",
     "outputPrepend",
     "outputPrepend",
     "outputPrepend",
     "outputPrepend",
     "outputPrepend",
     "outputPrepend",
     "outputPrepend",
     "outputPrepend",
     "outputPrepend",
     "outputPrepend",
     "outputPrepend",
     "outputPrepend",
     "outputPrepend",
     "outputPrepend",
     "outputPrepend",
     "outputPrepend",
     "outputPrepend",
     "outputPrepend",
     "outputPrepend",
     "outputPrepend",
     "outputPrepend",
     "outputPrepend",
     "outputPrepend",
     "outputPrepend",
     "outputPrepend",
     "outputPrepend",
     "outputPrepend",
     "outputPrepend",
     "outputPrepend",
     "outputPrepend",
     "outputPrepend",
     "outputPrepend",
     "outputPrepend",
     "outputPrepend",
     "outputPrepend",
     "outputPrepend",
     "outputPrepend",
     "outputPrepend",
     "outputPrepend",
     "outputPrepend",
     "outputPrepend",
     "outputPrepend",
     "outputPrepend",
     "outputPrepend",
     "outputPrepend",
     "outputPrepend",
     "outputPrepend",
     "outputPrepend",
     "outputPrepend"
    ]
   },
   "outputs": [],
   "source": [
    "df['value_to_float'] = df.value.apply(lambda x : float(x[1:].replace(',', '.')) if x != 'None' else 0.0)"
   ]
  },
  {
   "cell_type": "code",
   "execution_count": 50,
   "metadata": {},
   "outputs": [
    {
     "output_type": "execute_result",
     "data": {
      "text/plain": "         num        date             round                         category  \\\n0       4680  2004-12-31  Jeopardy!         HISTORY                           \n1       4680  2004-12-31  Jeopardy!         ESPN's TOP 10 ALL-TIME ATHLETES   \n2       4680  2004-12-31  Jeopardy!         EVERYBODY TALKS ABOUT IT...       \n3       4680  2004-12-31  Jeopardy!         THE COMPANY LINE                  \n4       4680  2004-12-31  Jeopardy!         EPITAPHS & TRIBUTES               \n...      ...         ...        ...                         ...               \n216925  4999  2006-05-11  Double Jeopardy!  RIDDLE ME THIS                    \n216926  4999  2006-05-11  Double Jeopardy!  \"T\" BIRDS                         \n216927  4999  2006-05-11  Double Jeopardy!  AUTHORS IN THEIR YOUTH            \n216928  4999  2006-05-11  Double Jeopardy!  QUOTATIONS                        \n216929  4999  2006-05-11  Final Jeopardy!   HISTORIC NAMES                    \n\n        value  \\\n0       $200    \n1       $200    \n2       $200    \n3       $200    \n4       $200    \n...      ...    \n216925  $2000   \n216926  $2000   \n216927  $2000   \n216928  $2000   \n216929  None    \n\n                                                                                                                      question  \\\n0       For the last 8 years of his life, Galileo was under house arrest for espousing this man's theory                         \n1       No. 2: 1912 Olympian; football star at Carlisle Indian School; 6 MLB seasons with the Reds, Giants & Braves              \n2       The city of Yuma in this state has a record average of 4,055 hours of sunshine each year                                 \n3       In 1963, live on \"The Art Linkletter Show\", this company served its billionth burger                                     \n4       Signer of the Dec. of Indep., framer of the Constitution of Mass., second President of the United States                 \n...                                                                                                          ...                 \n216925  This Puccini opera turns on the solution to 3 riddles posed by the heroine                                               \n216926  In North America this term is properly applied to only 4 species that are crested, including the tufted                  \n216927  In Penny Lane, where this \"Hellraiser\" grew up, the barber shaves another customer--then flays him alive!                \n216928  From Ft. Sill, Okla. he made the plea, Arizona is my land, my home, my father's land, to which I now ask to... return\"   \n216929  A silent movie title includes the last name of this 18th c. statesman & favorite of Catherine the Great                  \n\n                                answer  value_to_float  \n0       Copernicus                      200.0           \n1       Jim Thorpe                      200.0           \n2       Arizona                         200.0           \n3       McDonald's                      200.0           \n4       John Adams                      200.0           \n...            ...                        ...           \n216925  Turandot                        2000.0          \n216926  a titmouse                      2000.0          \n216927  Clive Barker                    2000.0          \n216928  Geronimo                        2000.0          \n216929  Grigori Alexandrovich Potemkin  0.0             \n\n[216930 rows x 8 columns]",
      "text/html": "<div>\n<style scoped>\n    .dataframe tbody tr th:only-of-type {\n        vertical-align: middle;\n    }\n\n    .dataframe tbody tr th {\n        vertical-align: top;\n    }\n\n    .dataframe thead th {\n        text-align: right;\n    }\n</style>\n<table border=\"1\" class=\"dataframe\">\n  <thead>\n    <tr style=\"text-align: right;\">\n      <th></th>\n      <th>num</th>\n      <th>date</th>\n      <th>round</th>\n      <th>category</th>\n      <th>value</th>\n      <th>question</th>\n      <th>answer</th>\n      <th>value_to_float</th>\n    </tr>\n  </thead>\n  <tbody>\n    <tr>\n      <td>0</td>\n      <td>4680</td>\n      <td>2004-12-31</td>\n      <td>Jeopardy!</td>\n      <td>HISTORY</td>\n      <td>$200</td>\n      <td>For the last 8 years of his life, Galileo was under house arrest for espousing this man's theory</td>\n      <td>Copernicus</td>\n      <td>200.0</td>\n    </tr>\n    <tr>\n      <td>1</td>\n      <td>4680</td>\n      <td>2004-12-31</td>\n      <td>Jeopardy!</td>\n      <td>ESPN's TOP 10 ALL-TIME ATHLETES</td>\n      <td>$200</td>\n      <td>No. 2: 1912 Olympian; football star at Carlisle Indian School; 6 MLB seasons with the Reds, Giants &amp; Braves</td>\n      <td>Jim Thorpe</td>\n      <td>200.0</td>\n    </tr>\n    <tr>\n      <td>2</td>\n      <td>4680</td>\n      <td>2004-12-31</td>\n      <td>Jeopardy!</td>\n      <td>EVERYBODY TALKS ABOUT IT...</td>\n      <td>$200</td>\n      <td>The city of Yuma in this state has a record average of 4,055 hours of sunshine each year</td>\n      <td>Arizona</td>\n      <td>200.0</td>\n    </tr>\n    <tr>\n      <td>3</td>\n      <td>4680</td>\n      <td>2004-12-31</td>\n      <td>Jeopardy!</td>\n      <td>THE COMPANY LINE</td>\n      <td>$200</td>\n      <td>In 1963, live on \"The Art Linkletter Show\", this company served its billionth burger</td>\n      <td>McDonald's</td>\n      <td>200.0</td>\n    </tr>\n    <tr>\n      <td>4</td>\n      <td>4680</td>\n      <td>2004-12-31</td>\n      <td>Jeopardy!</td>\n      <td>EPITAPHS &amp; TRIBUTES</td>\n      <td>$200</td>\n      <td>Signer of the Dec. of Indep., framer of the Constitution of Mass., second President of the United States</td>\n      <td>John Adams</td>\n      <td>200.0</td>\n    </tr>\n    <tr>\n      <td>...</td>\n      <td>...</td>\n      <td>...</td>\n      <td>...</td>\n      <td>...</td>\n      <td>...</td>\n      <td>...</td>\n      <td>...</td>\n      <td>...</td>\n    </tr>\n    <tr>\n      <td>216925</td>\n      <td>4999</td>\n      <td>2006-05-11</td>\n      <td>Double Jeopardy!</td>\n      <td>RIDDLE ME THIS</td>\n      <td>$2000</td>\n      <td>This Puccini opera turns on the solution to 3 riddles posed by the heroine</td>\n      <td>Turandot</td>\n      <td>2000.0</td>\n    </tr>\n    <tr>\n      <td>216926</td>\n      <td>4999</td>\n      <td>2006-05-11</td>\n      <td>Double Jeopardy!</td>\n      <td>\"T\" BIRDS</td>\n      <td>$2000</td>\n      <td>In North America this term is properly applied to only 4 species that are crested, including the tufted</td>\n      <td>a titmouse</td>\n      <td>2000.0</td>\n    </tr>\n    <tr>\n      <td>216927</td>\n      <td>4999</td>\n      <td>2006-05-11</td>\n      <td>Double Jeopardy!</td>\n      <td>AUTHORS IN THEIR YOUTH</td>\n      <td>$2000</td>\n      <td>In Penny Lane, where this \"Hellraiser\" grew up, the barber shaves another customer--then flays him alive!</td>\n      <td>Clive Barker</td>\n      <td>2000.0</td>\n    </tr>\n    <tr>\n      <td>216928</td>\n      <td>4999</td>\n      <td>2006-05-11</td>\n      <td>Double Jeopardy!</td>\n      <td>QUOTATIONS</td>\n      <td>$2000</td>\n      <td>From Ft. Sill, Okla. he made the plea, Arizona is my land, my home, my father's land, to which I now ask to... return\"</td>\n      <td>Geronimo</td>\n      <td>2000.0</td>\n    </tr>\n    <tr>\n      <td>216929</td>\n      <td>4999</td>\n      <td>2006-05-11</td>\n      <td>Final Jeopardy!</td>\n      <td>HISTORIC NAMES</td>\n      <td>None</td>\n      <td>A silent movie title includes the last name of this 18th c. statesman &amp; favorite of Catherine the Great</td>\n      <td>Grigori Alexandrovich Potemkin</td>\n      <td>0.0</td>\n    </tr>\n  </tbody>\n</table>\n<p>216930 rows × 8 columns</p>\n</div>"
     },
     "metadata": {},
     "execution_count": 50
    }
   ],
   "source": [
    "df"
   ]
  },
  {
   "cell_type": "code",
   "execution_count": 57,
   "metadata": {},
   "outputs": [],
   "source": [
    "filtered_df = filts(df, [\"King\"])"
   ]
  },
  {
   "cell_type": "code",
   "execution_count": 58,
   "metadata": {},
   "outputs": [
    {
     "output_type": "execute_result",
     "data": {
      "text/plain": "679.421748414091"
     },
     "metadata": {},
     "execution_count": 58
    }
   ],
   "source": [
    "filtered_df.value_to_float.mean()"
   ]
  },
  {
   "cell_type": "code",
   "execution_count": 67,
   "metadata": {},
   "outputs": [
    {
     "output_type": "execute_result",
     "data": {
      "text/plain": "China                                           216\nAustralia                                       215\nJapan                                           196\nChicago                                         194\nFrance                                          193\n                                               ... \nCradle                                          1  \nCalais (from Rodin's The Burghers of Calais)    1  \nVimy Ridge                                      1  \nArkansas (Wal-Mart)                             1  \ngold (to old)                                   1  \nName: answer, Length: 88268, dtype: int64"
     },
     "metadata": {},
     "execution_count": 67
    }
   ],
   "source": [
    "df.answer.value_counts()"
   ]
  },
  {
   "cell_type": "code",
   "execution_count": 69,
   "metadata": {},
   "outputs": [],
   "source": [
    "df['date'] = pd.to_datetime(df['date']) "
   ]
  },
  {
   "cell_type": "code",
   "execution_count": 80,
   "metadata": {},
   "outputs": [],
   "source": [
    "df_90s = df[df.date.apply(lambda x : True if (x.year >= 1900) & (x.year < 2000)  else False)]\n",
    "df_20s = df[df.date.apply(lambda x : True if (x.year >= 2000) else False)]"
   ]
  },
  {
   "cell_type": "code",
   "execution_count": 79,
   "metadata": {},
   "outputs": [
    {
     "output_type": "execute_result",
     "data": {
      "text/plain": "104"
     },
     "metadata": {},
     "execution_count": 79
    }
   ],
   "source": [
    "filts(df_90s, ['Computer']).shape[0]"
   ]
  },
  {
   "cell_type": "code",
   "execution_count": 81,
   "metadata": {},
   "outputs": [
    {
     "output_type": "execute_result",
     "data": {
      "text/plain": "327"
     },
     "metadata": {},
     "execution_count": 81
    }
   ],
   "source": [
    "filts(df_20s, ['Computer']).shape[0]"
   ]
  },
  {
   "cell_type": "code",
   "execution_count": 83,
   "metadata": {},
   "outputs": [
    {
     "output_type": "execute_result",
     "data": {
      "text/plain": "round             category               \nDouble Jeopardy!  \"-ARES\"                    5\n                  \"...OD\" WORDS              5\n                  \"1\", \"2\", \"3\"              5\n                  \"20\" QUESTIONS             5\n                  \"A\" + 4                    5\n                                            ..\nJeopardy!         “NORTH”                    5\n                  “STREETS”                  5\nTiebreaker        CHILD'S PLAY               1\n                  LITERARY CHARACTERS        1\n                  THE AMERICAN REVOLUTION    1\nName: num, Length: 31686, dtype: int64"
     },
     "metadata": {},
     "execution_count": 83
    }
   ],
   "source": [
    "df.groupby(['round', 'category']).num.count()"
   ]
  },
  {
   "cell_type": "code",
   "execution_count": null,
   "metadata": {},
   "outputs": [],
   "source": []
  }
 ]
}